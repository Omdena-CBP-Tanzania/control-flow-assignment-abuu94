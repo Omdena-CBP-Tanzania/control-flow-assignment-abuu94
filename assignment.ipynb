{
 "cells": [
  {
   "cell_type": "code",
   "execution_count": 11,
   "id": "d2fbf09e-b5d1-4a6b-b3ce-098fd33b6fdf",
   "metadata": {},
   "outputs": [
    {
     "name": "stdout",
     "output_type": "stream",
     "text": [
      "0\n",
      "2\n",
      "4\n",
      "6\n",
      "8\n",
      "10\n",
      "12\n",
      "14\n"
     ]
    }
   ],
   "source": [
    "#solution of task 1\n",
    "number = 0\n",
    "while number <= 20:\n",
    "    if number%2==0:\n",
    "        if number==16:\n",
    "            break;\n",
    "        print(number)\n",
    "    number+=1"
   ]
  },
  {
   "cell_type": "code",
   "execution_count": 13,
   "id": "4711d9e4-baab-4dfd-987b-8795ee6af32f",
   "metadata": {},
   "outputs": [
    {
     "name": "stdout",
     "output_type": "stream",
     "text": [
      "1\n",
      "2\n",
      "4\n",
      "5\n",
      "7\n",
      "8\n",
      "10\n",
      "11\n",
      "13\n",
      "14\n"
     ]
    }
   ],
   "source": [
    "#solution of task 2\n",
    "for i in range(1,16):\n",
    "    if i % 3 == 0:\n",
    "        continue\n",
    "    print (i)"
   ]
  },
  {
   "cell_type": "code",
   "execution_count": 17,
   "id": "3143314b-db95-46ec-8349-89e99567d68e",
   "metadata": {},
   "outputs": [
    {
     "name": "stdin",
     "output_type": "stream",
     "text": [
      "Enter a number:  5\n"
     ]
    },
    {
     "name": "stdout",
     "output_type": "stream",
     "text": [
      " 5 is a positive number.\n"
     ]
    }
   ],
   "source": [
    "#solution of task 3\n",
    "number= int(input(\"Enter a number: \"))\n",
    "if number > 0:\n",
    "    print(f\" {number} is a positive number.\")\n",
    "elif number < 0:\n",
    "    print(f\" {number} is a negetive number.\")\n",
    "else:\n",
    "    print(f\" {number} is a zero.\")\n",
    "    "
   ]
  },
  {
   "cell_type": "code",
   "execution_count": 19,
   "id": "a1151771-eb5b-497b-a867-27df69b80cc1",
   "metadata": {},
   "outputs": [
    {
     "name": "stdout",
     "output_type": "stream",
     "text": [
      "1 2 3 4 5 \n",
      "2 4 6 8 10 \n",
      "3 6 9 12 15 \n",
      "4 8 12 16 20 \n",
      "5 10 15 20 25 \n"
     ]
    }
   ],
   "source": [
    "#solution of task 4\n",
    "for i in range(1,6):\n",
    "    # print(i)\n",
    "    for j in range(1,6):\n",
    "        print(i*j,end=\" \")\n",
    "    print()\n",
    "        "
   ]
  },
  {
   "cell_type": "code",
   "execution_count": null,
   "id": "b8eeb286-6073-4915-9647-0577a32e203a",
   "metadata": {},
   "outputs": [],
   "source": []
  }
 ],
 "metadata": {
  "kernelspec": {
   "display_name": "Python [conda env:base] *",
   "language": "python",
   "name": "conda-base-py"
  },
  "language_info": {
   "codemirror_mode": {
    "name": "ipython",
    "version": 3
   },
   "file_extension": ".py",
   "mimetype": "text/x-python",
   "name": "python",
   "nbconvert_exporter": "python",
   "pygments_lexer": "ipython3",
   "version": "3.12.7"
  }
 },
 "nbformat": 4,
 "nbformat_minor": 5
}
