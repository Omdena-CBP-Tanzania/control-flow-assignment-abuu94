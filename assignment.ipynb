{
 "cells": [
  {
   "cell_type": "code",
   "execution_count": 1,
   "id": "d2fbf09e-b5d1-4a6b-b3ce-098fd33b6fdf",
   "metadata": {},
   "outputs": [],
   "source": [
    "#solution of task 1\n",
    "def while_loop():\n",
    "    number = 0\n",
    "    while number <= 20:\n",
    "        if number%2==0:\n",
    "            if number==16:\n",
    "                break;\n",
    "            print(number)\n",
    "        number+=1\n",
    "while_loop()"
   ]
  },
  {
   "cell_type": "code",
   "execution_count": 3,
   "id": "4711d9e4-baab-4dfd-987b-8795ee6af32f",
   "metadata": {},
   "outputs": [],
   "source": [
    "#solution of task 2\n",
    "def for_loop_continue():\n",
    "    for i in range(1,16):\n",
    "        if i % 3 == 0:\n",
    "            continue\n",
    "        print (i)\n",
    "for_loop_continue()"
   ]
  },
  {
   "cell_type": "code",
   "execution_count": 5,
   "id": "3143314b-db95-46ec-8349-89e99567d68e",
   "metadata": {},
   "outputs": [],
   "source": [
    "#solution of task 3\n",
    "def for_loop_continue():\n",
    "    number= int(input(\"Enter a number: \"))\n",
    "    if number > 0:\n",
    "        print(f\" {number} is a positive number.\")\n",
    "    elif number < 0:\n",
    "        print(f\" {number} is a negetive number.\")\n",
    "    else:\n",
    "        print(f\" {number} is a zero.\")\n",
    "for_loop_continue()\n",
    "    "
   ]
  },
  {
   "cell_type": "code",
   "execution_count": 10,
   "id": "a1151771-eb5b-497b-a867-27df69b80cc1",
   "metadata": {},
   "outputs": [],
   "source": [
    "# #solution of task 4\n",
    "# for i in range(1,6):\n",
    "#     # print(i)\n",
    "#     for j in range(1,6):\n",
    "#         print(i*j,end=\" \")\n",
    "#     print()\n",
    "        "
   ]
  },
  {
   "cell_type": "code",
   "execution_count": null,
   "id": "b8eeb286-6073-4915-9647-0577a32e203a",
   "metadata": {},
   "outputs": [],
   "source": [
    "def nested_loops():\n",
    "    for i in range(1, 6):            # Outer loop for rows\n",
    "        for j in range(1, 6):        # Inner loop for columns\n",
    "            product = i * j\n",
    "            print(f\"{product}\\t\", end='')  # Print the product followed by a tab\n",
    "        print()\n",
    "nested_loops()"
   ]
  },
  {
   "cell_type": "code",
   "execution_count": null,
   "id": "874a65f2-59cd-426d-b7df-0e46fb87dbdd",
   "metadata": {},
   "outputs": [],
   "source": []
  }
 ],
 "metadata": {
  "kernelspec": {
   "display_name": "Python [conda env:base] *",
   "language": "python",
   "name": "conda-base-py"
  },
  "language_info": {
   "codemirror_mode": {
    "name": "ipython",
    "version": 3
   },
   "file_extension": ".py",
   "mimetype": "text/x-python",
   "name": "python",
   "nbconvert_exporter": "python",
   "pygments_lexer": "ipython3",
   "version": "3.12.7"
  }
 },
 "nbformat": 4,
 "nbformat_minor": 5
}
